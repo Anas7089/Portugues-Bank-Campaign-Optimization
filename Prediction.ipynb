{
 "cells": [
  {
   "cell_type": "code",
   "execution_count": 2,
   "id": "670dc640-aaa1-4009-a675-363399fb67f3",
   "metadata": {},
   "outputs": [],
   "source": [
    "import joblib\n"
   ]
  },
  {
   "cell_type": "code",
   "execution_count": 3,
   "id": "d4c65443-e8f3-4077-ae4d-6ab85a4951db",
   "metadata": {},
   "outputs": [],
   "source": [
    "def predict(data):\n",
    "        model = joblib.load('RFC_model.sav')\n",
    "        prediction =model.predict(data)\n",
    "        return prediction\n"
   ]
  }
 ],
 "metadata": {
  "kernelspec": {
   "display_name": "Python 3 (ipykernel)",
   "language": "python",
   "name": "python3"
  },
  "language_info": {
   "codemirror_mode": {
    "name": "ipython",
    "version": 3
   },
   "file_extension": ".py",
   "mimetype": "text/x-python",
   "name": "python",
   "nbconvert_exporter": "python",
   "pygments_lexer": "ipython3",
   "version": "3.12.7"
  }
 },
 "nbformat": 4,
 "nbformat_minor": 5
}
